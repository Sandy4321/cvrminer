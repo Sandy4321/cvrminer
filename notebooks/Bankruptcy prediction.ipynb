{
 "cells": [
  {
   "cell_type": "code",
   "execution_count": 1,
   "metadata": {
    "collapsed": true
   },
   "outputs": [],
   "source": [
    "# https://github.com/fnielsen/everything\n",
    "from everything import *"
   ]
  },
  {
   "cell_type": "code",
   "execution_count": 2,
   "metadata": {
    "collapsed": false
   },
   "outputs": [],
   "source": [
    "# Read dataframe with features for companies\n",
    "filename = expanduser('~/workspace/cvrminer/virksomheder-features.csv')\n",
    "df = read_csv(filename, encoding='utf-8', index_col=0)"
   ]
  },
  {
   "cell_type": "code",
   "execution_count": 3,
   "metadata": {
    "collapsed": false
   },
   "outputs": [
    {
     "data": {
      "text/plain": [
       "Index([u'antal_penheder', u'branche_ansvarskode', u'nyeste_antal_ansatte',\n",
       "       u'nyeste_virksomhedsform', u'reklamebeskyttet', u'sammensat_status',\n",
       "       u'nyeste_statuskode', u'stiftelsesaar'],\n",
       "      dtype='object')"
      ]
     },
     "execution_count": 3,
     "metadata": {},
     "output_type": "execute_result"
    }
   ],
   "source": [
    "# Feature names\n",
    "df.columns"
   ]
  },
  {
   "cell_type": "code",
   "execution_count": 4,
   "metadata": {
    "collapsed": true
   },
   "outputs": [],
   "source": [
    "# Functions for conversion to numerical dataframes\n",
    "def to_dummies(df, column):\n",
    "    datatype = df[column].dtypes\n",
    "    if datatype in [int64, float64]:\n",
    "        return df[[column]]\n",
    "    elif datatype == bool:\n",
    "        return df[[column]].astype(int)\n",
    "    elif datatype == 'object':\n",
    "        df_column = df[column].str.get_dummies()\n",
    "        df_column.columns = [column + \":\" + col for col in df_column.columns]\n",
    "        return df_column\n",
    "    else:\n",
    "        raise ValueError('Unrecognized datatype for column {}'.format(column))\n",
    "\n",
    "        \n",
    "def dataframe_to_numerical(df):\n",
    "    df_numerical = DataFrame(index=df.index)\n",
    "    for column in df.columns:\n",
    "        print(column)\n",
    "        df_numerical = df_numerical.join(to_dummies(df, column))\n",
    "    return df_numerical"
   ]
  },
  {
   "cell_type": "code",
   "execution_count": 5,
   "metadata": {
    "collapsed": false
   },
   "outputs": [
    {
     "name": "stdout",
     "output_type": "stream",
     "text": [
      "antal_penheder\n",
      "branche_ansvarskode\n",
      "nyeste_antal_ansatte\n",
      "nyeste_virksomhedsform\n",
      "reklamebeskyttet\n",
      "sammensat_status\n",
      "nyeste_statuskode\n",
      "stiftelsesaar\n"
     ]
    },
    {
     "data": {
      "text/plain": [
       "(1529578, 86)"
      ]
     },
     "execution_count": 5,
     "metadata": {},
     "output_type": "execute_result"
    }
   ],
   "source": [
    "# Numerical dataframe\n",
    "dfn = dataframe_to_numerical(df)\n",
    "dfn.shape"
   ]
  },
  {
   "cell_type": "code",
   "execution_count": 6,
   "metadata": {
    "collapsed": true
   },
   "outputs": [],
   "source": [
    "# Preprocessing\n",
    "imputer = Imputer()\n",
    "scaler = StandardScaler(with_mean=False)\n",
    "dfni = DataFrame(scaler.fit_transform(imputer.fit_transform(dfn)), columns=dfn.columns, index=dfn.index)"
   ]
  },
  {
   "cell_type": "code",
   "execution_count": 7,
   "metadata": {
    "collapsed": false
   },
   "outputs": [
    {
     "data": {
      "text/plain": [
       "None    1470472\n",
       "3         37049\n",
       "1         19948\n",
       "5          1351\n",
       "2           217\n",
       "4           210\n",
       "6           175\n",
       "9           115\n",
       "8            38\n",
       "7             3\n",
       "Name: nyeste_statuskode, dtype: int64"
      ]
     },
     "execution_count": 7,
     "metadata": {},
     "output_type": "execute_result"
    }
   ],
   "source": [
    "df.nyeste_statuskode.value_counts()"
   ]
  },
  {
   "cell_type": "code",
   "execution_count": 8,
   "metadata": {
    "collapsed": false
   },
   "outputs": [
    {
     "data": {
      "text/plain": [
       "Ophørt                             570763\n",
       "Aktiv                              437184\n",
       "NORMAL                             272911\n",
       "OPLØSTEFTERKONKURS                  66128\n",
       "TVANGSOPLØST                        58405\n",
       "OPLØSTEFTERERKLÆRING                39246\n",
       "OPLØSTEFTERFRIVILLIGLIKVIDATION     36951\n",
       "OPLØSTEFTERFUSION                   20581\n",
       "UNDERKONKURS                         8182\n",
       "SLETTET                              7570\n",
       "OPLØSTEFTERSPALTNING                 6467\n",
       "UNDERTVANGSOPLØSNING                 2892\n",
       "UNDERFRIVILLIGLIKVIDATION            1668\n",
       "Fremtid                               460\n",
       "UNDERREASSUMERING                      67\n",
       "slettet                                36\n",
       "UDENRETSVIRKNING                       30\n",
       "UNDERREKONSTRUKTION                    11\n",
       "AKTIV                                   8\n",
       "OPLØST                                  6\n",
       "Slettet                                 4\n",
       "UNDERREASUMMERING                       3\n",
       "SLETTES                                 2\n",
       "OPLØSTEFTERTVANGSOPLØSNING              1\n",
       "UNDERREASUMMATION                       1\n",
       "UNDERREASSUMMERING                      1\n",
       "Name: sammensat_status, dtype: int64"
      ]
     },
     "execution_count": 8,
     "metadata": {},
     "output_type": "execute_result"
    }
   ],
   "source": [
    "df.sammensat_status.value_counts()"
   ]
  },
  {
   "cell_type": "code",
   "execution_count": 9,
   "metadata": {
    "collapsed": false
   },
   "outputs": [
    {
     "data": {
      "text/html": [
       "<div>\n",
       "<table border=\"1\" class=\"dataframe\">\n",
       "  <thead>\n",
       "    <tr style=\"text-align: right;\">\n",
       "      <th>nyeste_statuskode</th>\n",
       "      <th>1</th>\n",
       "      <th>2</th>\n",
       "      <th>3</th>\n",
       "      <th>4</th>\n",
       "      <th>5</th>\n",
       "      <th>6</th>\n",
       "      <th>7</th>\n",
       "      <th>8</th>\n",
       "      <th>9</th>\n",
       "      <th>None</th>\n",
       "    </tr>\n",
       "    <tr>\n",
       "      <th>sammensat_status</th>\n",
       "      <th></th>\n",
       "      <th></th>\n",
       "      <th></th>\n",
       "      <th></th>\n",
       "      <th></th>\n",
       "      <th></th>\n",
       "      <th></th>\n",
       "      <th></th>\n",
       "      <th></th>\n",
       "      <th></th>\n",
       "    </tr>\n",
       "  </thead>\n",
       "  <tbody>\n",
       "    <tr>\n",
       "      <th>AKTIV</th>\n",
       "      <td>0</td>\n",
       "      <td>0</td>\n",
       "      <td>0</td>\n",
       "      <td>0</td>\n",
       "      <td>0</td>\n",
       "      <td>0</td>\n",
       "      <td>0</td>\n",
       "      <td>0</td>\n",
       "      <td>0</td>\n",
       "      <td>8</td>\n",
       "    </tr>\n",
       "    <tr>\n",
       "      <th>Aktiv</th>\n",
       "      <td>179</td>\n",
       "      <td>31</td>\n",
       "      <td>447</td>\n",
       "      <td>12</td>\n",
       "      <td>39</td>\n",
       "      <td>5</td>\n",
       "      <td>0</td>\n",
       "      <td>4</td>\n",
       "      <td>13</td>\n",
       "      <td>436454</td>\n",
       "    </tr>\n",
       "    <tr>\n",
       "      <th>Fremtid</th>\n",
       "      <td>0</td>\n",
       "      <td>0</td>\n",
       "      <td>0</td>\n",
       "      <td>0</td>\n",
       "      <td>0</td>\n",
       "      <td>0</td>\n",
       "      <td>0</td>\n",
       "      <td>0</td>\n",
       "      <td>0</td>\n",
       "      <td>460</td>\n",
       "    </tr>\n",
       "    <tr>\n",
       "      <th>NORMAL</th>\n",
       "      <td>16</td>\n",
       "      <td>24</td>\n",
       "      <td>5</td>\n",
       "      <td>0</td>\n",
       "      <td>1</td>\n",
       "      <td>0</td>\n",
       "      <td>0</td>\n",
       "      <td>0</td>\n",
       "      <td>1</td>\n",
       "      <td>272864</td>\n",
       "    </tr>\n",
       "    <tr>\n",
       "      <th>OPLØST</th>\n",
       "      <td>0</td>\n",
       "      <td>0</td>\n",
       "      <td>0</td>\n",
       "      <td>0</td>\n",
       "      <td>0</td>\n",
       "      <td>0</td>\n",
       "      <td>0</td>\n",
       "      <td>0</td>\n",
       "      <td>0</td>\n",
       "      <td>6</td>\n",
       "    </tr>\n",
       "    <tr>\n",
       "      <th>OPLØSTEFTERERKLÆRING</th>\n",
       "      <td>4</td>\n",
       "      <td>3</td>\n",
       "      <td>0</td>\n",
       "      <td>0</td>\n",
       "      <td>0</td>\n",
       "      <td>0</td>\n",
       "      <td>0</td>\n",
       "      <td>0</td>\n",
       "      <td>2</td>\n",
       "      <td>39237</td>\n",
       "    </tr>\n",
       "    <tr>\n",
       "      <th>OPLØSTEFTERFRIVILLIGLIKVIDATION</th>\n",
       "      <td>5</td>\n",
       "      <td>6</td>\n",
       "      <td>0</td>\n",
       "      <td>1</td>\n",
       "      <td>6</td>\n",
       "      <td>0</td>\n",
       "      <td>0</td>\n",
       "      <td>0</td>\n",
       "      <td>3</td>\n",
       "      <td>36930</td>\n",
       "    </tr>\n",
       "    <tr>\n",
       "      <th>OPLØSTEFTERFUSION</th>\n",
       "      <td>13</td>\n",
       "      <td>5</td>\n",
       "      <td>0</td>\n",
       "      <td>0</td>\n",
       "      <td>1</td>\n",
       "      <td>0</td>\n",
       "      <td>0</td>\n",
       "      <td>0</td>\n",
       "      <td>2</td>\n",
       "      <td>20560</td>\n",
       "    </tr>\n",
       "    <tr>\n",
       "      <th>OPLØSTEFTERKONKURS</th>\n",
       "      <td>11646</td>\n",
       "      <td>9</td>\n",
       "      <td>34348</td>\n",
       "      <td>40</td>\n",
       "      <td>630</td>\n",
       "      <td>78</td>\n",
       "      <td>0</td>\n",
       "      <td>3</td>\n",
       "      <td>18</td>\n",
       "      <td>19356</td>\n",
       "    </tr>\n",
       "    <tr>\n",
       "      <th>OPLØSTEFTERSPALTNING</th>\n",
       "      <td>0</td>\n",
       "      <td>0</td>\n",
       "      <td>1</td>\n",
       "      <td>0</td>\n",
       "      <td>0</td>\n",
       "      <td>0</td>\n",
       "      <td>0</td>\n",
       "      <td>0</td>\n",
       "      <td>0</td>\n",
       "      <td>6466</td>\n",
       "    </tr>\n",
       "    <tr>\n",
       "      <th>OPLØSTEFTERTVANGSOPLØSNING</th>\n",
       "      <td>0</td>\n",
       "      <td>0</td>\n",
       "      <td>0</td>\n",
       "      <td>0</td>\n",
       "      <td>0</td>\n",
       "      <td>0</td>\n",
       "      <td>0</td>\n",
       "      <td>0</td>\n",
       "      <td>0</td>\n",
       "      <td>1</td>\n",
       "    </tr>\n",
       "    <tr>\n",
       "      <th>Ophørt</th>\n",
       "      <td>2429</td>\n",
       "      <td>92</td>\n",
       "      <td>289</td>\n",
       "      <td>5</td>\n",
       "      <td>43</td>\n",
       "      <td>7</td>\n",
       "      <td>1</td>\n",
       "      <td>31</td>\n",
       "      <td>68</td>\n",
       "      <td>567798</td>\n",
       "    </tr>\n",
       "    <tr>\n",
       "      <th>SLETTES</th>\n",
       "      <td>0</td>\n",
       "      <td>0</td>\n",
       "      <td>0</td>\n",
       "      <td>0</td>\n",
       "      <td>0</td>\n",
       "      <td>0</td>\n",
       "      <td>0</td>\n",
       "      <td>0</td>\n",
       "      <td>0</td>\n",
       "      <td>2</td>\n",
       "    </tr>\n",
       "    <tr>\n",
       "      <th>SLETTET</th>\n",
       "      <td>4</td>\n",
       "      <td>0</td>\n",
       "      <td>5</td>\n",
       "      <td>2</td>\n",
       "      <td>1</td>\n",
       "      <td>0</td>\n",
       "      <td>0</td>\n",
       "      <td>0</td>\n",
       "      <td>0</td>\n",
       "      <td>7558</td>\n",
       "    </tr>\n",
       "    <tr>\n",
       "      <th>Slettet</th>\n",
       "      <td>0</td>\n",
       "      <td>0</td>\n",
       "      <td>0</td>\n",
       "      <td>0</td>\n",
       "      <td>0</td>\n",
       "      <td>0</td>\n",
       "      <td>0</td>\n",
       "      <td>0</td>\n",
       "      <td>0</td>\n",
       "      <td>4</td>\n",
       "    </tr>\n",
       "    <tr>\n",
       "      <th>TVANGSOPLØST</th>\n",
       "      <td>189</td>\n",
       "      <td>46</td>\n",
       "      <td>205</td>\n",
       "      <td>1</td>\n",
       "      <td>12</td>\n",
       "      <td>2</td>\n",
       "      <td>0</td>\n",
       "      <td>0</td>\n",
       "      <td>8</td>\n",
       "      <td>57942</td>\n",
       "    </tr>\n",
       "    <tr>\n",
       "      <th>UDENRETSVIRKNING</th>\n",
       "      <td>0</td>\n",
       "      <td>0</td>\n",
       "      <td>0</td>\n",
       "      <td>0</td>\n",
       "      <td>0</td>\n",
       "      <td>0</td>\n",
       "      <td>0</td>\n",
       "      <td>0</td>\n",
       "      <td>0</td>\n",
       "      <td>30</td>\n",
       "    </tr>\n",
       "    <tr>\n",
       "      <th>UNDERFRIVILLIGLIKVIDATION</th>\n",
       "      <td>3</td>\n",
       "      <td>0</td>\n",
       "      <td>0</td>\n",
       "      <td>0</td>\n",
       "      <td>0</td>\n",
       "      <td>0</td>\n",
       "      <td>0</td>\n",
       "      <td>0</td>\n",
       "      <td>0</td>\n",
       "      <td>1665</td>\n",
       "    </tr>\n",
       "    <tr>\n",
       "      <th>UNDERKONKURS</th>\n",
       "      <td>5317</td>\n",
       "      <td>1</td>\n",
       "      <td>1741</td>\n",
       "      <td>145</td>\n",
       "      <td>615</td>\n",
       "      <td>82</td>\n",
       "      <td>1</td>\n",
       "      <td>0</td>\n",
       "      <td>0</td>\n",
       "      <td>280</td>\n",
       "    </tr>\n",
       "    <tr>\n",
       "      <th>UNDERREASSUMERING</th>\n",
       "      <td>9</td>\n",
       "      <td>0</td>\n",
       "      <td>2</td>\n",
       "      <td>0</td>\n",
       "      <td>0</td>\n",
       "      <td>0</td>\n",
       "      <td>0</td>\n",
       "      <td>0</td>\n",
       "      <td>0</td>\n",
       "      <td>56</td>\n",
       "    </tr>\n",
       "    <tr>\n",
       "      <th>UNDERREASSUMMERING</th>\n",
       "      <td>0</td>\n",
       "      <td>0</td>\n",
       "      <td>0</td>\n",
       "      <td>0</td>\n",
       "      <td>0</td>\n",
       "      <td>0</td>\n",
       "      <td>0</td>\n",
       "      <td>0</td>\n",
       "      <td>0</td>\n",
       "      <td>1</td>\n",
       "    </tr>\n",
       "    <tr>\n",
       "      <th>UNDERREASUMMATION</th>\n",
       "      <td>0</td>\n",
       "      <td>0</td>\n",
       "      <td>0</td>\n",
       "      <td>0</td>\n",
       "      <td>0</td>\n",
       "      <td>0</td>\n",
       "      <td>0</td>\n",
       "      <td>0</td>\n",
       "      <td>0</td>\n",
       "      <td>1</td>\n",
       "    </tr>\n",
       "    <tr>\n",
       "      <th>UNDERREASUMMERING</th>\n",
       "      <td>0</td>\n",
       "      <td>0</td>\n",
       "      <td>0</td>\n",
       "      <td>0</td>\n",
       "      <td>0</td>\n",
       "      <td>0</td>\n",
       "      <td>0</td>\n",
       "      <td>0</td>\n",
       "      <td>0</td>\n",
       "      <td>3</td>\n",
       "    </tr>\n",
       "    <tr>\n",
       "      <th>UNDERREKONSTRUKTION</th>\n",
       "      <td>1</td>\n",
       "      <td>0</td>\n",
       "      <td>0</td>\n",
       "      <td>1</td>\n",
       "      <td>0</td>\n",
       "      <td>0</td>\n",
       "      <td>1</td>\n",
       "      <td>0</td>\n",
       "      <td>0</td>\n",
       "      <td>8</td>\n",
       "    </tr>\n",
       "    <tr>\n",
       "      <th>UNDERTVANGSOPLØSNING</th>\n",
       "      <td>133</td>\n",
       "      <td>0</td>\n",
       "      <td>6</td>\n",
       "      <td>3</td>\n",
       "      <td>3</td>\n",
       "      <td>1</td>\n",
       "      <td>0</td>\n",
       "      <td>0</td>\n",
       "      <td>0</td>\n",
       "      <td>2746</td>\n",
       "    </tr>\n",
       "    <tr>\n",
       "      <th>slettet</th>\n",
       "      <td>0</td>\n",
       "      <td>0</td>\n",
       "      <td>0</td>\n",
       "      <td>0</td>\n",
       "      <td>0</td>\n",
       "      <td>0</td>\n",
       "      <td>0</td>\n",
       "      <td>0</td>\n",
       "      <td>0</td>\n",
       "      <td>36</td>\n",
       "    </tr>\n",
       "  </tbody>\n",
       "</table>\n",
       "</div>"
      ],
      "text/plain": [
       "nyeste_statuskode                    1   2      3    4    5   6  7   8   9  \\\n",
       "sammensat_status                                                             \n",
       "AKTIV                                0   0      0    0    0   0  0   0   0   \n",
       "Aktiv                              179  31    447   12   39   5  0   4  13   \n",
       "Fremtid                              0   0      0    0    0   0  0   0   0   \n",
       "NORMAL                              16  24      5    0    1   0  0   0   1   \n",
       "OPLØST                               0   0      0    0    0   0  0   0   0   \n",
       "OPLØSTEFTERERKLÆRING                 4   3      0    0    0   0  0   0   2   \n",
       "OPLØSTEFTERFRIVILLIGLIKVIDATION      5   6      0    1    6   0  0   0   3   \n",
       "OPLØSTEFTERFUSION                   13   5      0    0    1   0  0   0   2   \n",
       "OPLØSTEFTERKONKURS               11646   9  34348   40  630  78  0   3  18   \n",
       "OPLØSTEFTERSPALTNING                 0   0      1    0    0   0  0   0   0   \n",
       "OPLØSTEFTERTVANGSOPLØSNING           0   0      0    0    0   0  0   0   0   \n",
       "Ophørt                            2429  92    289    5   43   7  1  31  68   \n",
       "SLETTES                              0   0      0    0    0   0  0   0   0   \n",
       "SLETTET                              4   0      5    2    1   0  0   0   0   \n",
       "Slettet                              0   0      0    0    0   0  0   0   0   \n",
       "TVANGSOPLØST                       189  46    205    1   12   2  0   0   8   \n",
       "UDENRETSVIRKNING                     0   0      0    0    0   0  0   0   0   \n",
       "UNDERFRIVILLIGLIKVIDATION            3   0      0    0    0   0  0   0   0   \n",
       "UNDERKONKURS                      5317   1   1741  145  615  82  1   0   0   \n",
       "UNDERREASSUMERING                    9   0      2    0    0   0  0   0   0   \n",
       "UNDERREASSUMMERING                   0   0      0    0    0   0  0   0   0   \n",
       "UNDERREASUMMATION                    0   0      0    0    0   0  0   0   0   \n",
       "UNDERREASUMMERING                    0   0      0    0    0   0  0   0   0   \n",
       "UNDERREKONSTRUKTION                  1   0      0    1    0   0  1   0   0   \n",
       "UNDERTVANGSOPLØSNING               133   0      6    3    3   1  0   0   0   \n",
       "slettet                              0   0      0    0    0   0  0   0   0   \n",
       "\n",
       "nyeste_statuskode                  None  \n",
       "sammensat_status                         \n",
       "AKTIV                                 8  \n",
       "Aktiv                            436454  \n",
       "Fremtid                             460  \n",
       "NORMAL                           272864  \n",
       "OPLØST                                6  \n",
       "OPLØSTEFTERERKLÆRING              39237  \n",
       "OPLØSTEFTERFRIVILLIGLIKVIDATION   36930  \n",
       "OPLØSTEFTERFUSION                 20560  \n",
       "OPLØSTEFTERKONKURS                19356  \n",
       "OPLØSTEFTERSPALTNING               6466  \n",
       "OPLØSTEFTERTVANGSOPLØSNING            1  \n",
       "Ophørt                           567798  \n",
       "SLETTES                               2  \n",
       "SLETTET                            7558  \n",
       "Slettet                               4  \n",
       "TVANGSOPLØST                      57942  \n",
       "UDENRETSVIRKNING                     30  \n",
       "UNDERFRIVILLIGLIKVIDATION          1665  \n",
       "UNDERKONKURS                        280  \n",
       "UNDERREASSUMERING                    56  \n",
       "UNDERREASSUMMERING                    1  \n",
       "UNDERREASUMMATION                     1  \n",
       "UNDERREASUMMERING                     3  \n",
       "UNDERREKONSTRUKTION                   8  \n",
       "UNDERTVANGSOPLØSNING               2746  \n",
       "slettet                              36  "
      ]
     },
     "execution_count": 9,
     "metadata": {},
     "output_type": "execute_result"
    }
   ],
   "source": [
    "pd.crosstab(df.sammensat_status, df.nyeste_statuskode)"
   ]
  },
  {
   "cell_type": "code",
   "execution_count": 10,
   "metadata": {
    "collapsed": false
   },
   "outputs": [
    {
     "data": {
      "text/plain": [
       "(503312, 8)"
      ]
     },
     "execution_count": 10,
     "metadata": {},
     "output_type": "execute_result"
    }
   ],
   "source": [
    "indices = df.sammensat_status.isin(['Aktiv', u'OPLØSTEFTERKONKURS']).values\n",
    "dfs = df.ix[indices, :].copy()\n",
    "dfs.shape"
   ]
  },
  {
   "cell_type": "code",
   "execution_count": 11,
   "metadata": {
    "collapsed": false
   },
   "outputs": [],
   "source": [
    "dfs['konkurs'] = (dfs.sammensat_status == u'OPLØSTEFTERKONKURS').astype(int)"
   ]
  },
  {
   "cell_type": "code",
   "execution_count": 12,
   "metadata": {
    "collapsed": false
   },
   "outputs": [],
   "source": [
    "def transform_year(year):\n",
    "    return year - 2000\n",
    "\n",
    "\n",
    "results = smf.glm(('konkurs ~ np.log(antal_penheder+1) + C(nyeste_antal_ansatte) + ' \n",
    "                   # nyeste_virksomhedsform + nyeste_statuskode + \n",
    "                   'branche_ansvarskode + reklamebeskyttet + transform_year(stiftelsesaar)'),\n",
    "                  data=dfs, family=sm.families.Binomial()).fit()"
   ]
  },
  {
   "cell_type": "code",
   "execution_count": 13,
   "metadata": {
    "collapsed": false
   },
   "outputs": [
    {
     "name": "stdout",
     "output_type": "stream",
     "text": [
      "                 Generalized Linear Model Regression Results                  \n",
      "==============================================================================\n",
      "Dep. Variable:                konkurs   No. Observations:               268243\n",
      "Model:                            GLM   Df Residuals:                   268222\n",
      "Model Family:                Binomial   Df Model:                           20\n",
      "Link Function:                  logit   Scale:                             1.0\n",
      "Method:                          IRLS   Log-Likelihood:                -75790.\n",
      "Date:                Thu, 18 Aug 2016   Deviance:                   1.5158e+05\n",
      "Time:                        22:30:48   Pearson chi2:                 2.97e+05\n",
      "No. Iterations:                    26                                         \n",
      "=====================================================================================================\n",
      "                                        coef    std err          z      P>|z|      [95.0% Conf. Int.]\n",
      "-----------------------------------------------------------------------------------------------------\n",
      "Intercept                            -0.1821      0.187     -0.976      0.329        -0.548     0.184\n",
      "C(nyeste_antal_ansatte)[T.1.0]        1.3965      0.019     71.879      0.000         1.358     1.435\n",
      "C(nyeste_antal_ansatte)[T.2.0]        1.4391      0.019     76.948      0.000         1.402     1.476\n",
      "C(nyeste_antal_ansatte)[T.5.0]        1.6605      0.025     67.751      0.000         1.612     1.709\n",
      "C(nyeste_antal_ansatte)[T.10.0]       1.9545      0.032     62.028      0.000         1.893     2.016\n",
      "C(nyeste_antal_ansatte)[T.20.0]       2.1077      0.043     49.589      0.000         2.024     2.191\n",
      "C(nyeste_antal_ansatte)[T.50.0]       1.8773      0.093     20.237      0.000         1.696     2.059\n",
      "C(nyeste_antal_ansatte)[T.100.0]      1.2759      0.157      8.126      0.000         0.968     1.584\n",
      "C(nyeste_antal_ansatte)[T.200.0]      1.4266      0.274      5.206      0.000         0.889     1.964\n",
      "C(nyeste_antal_ansatte)[T.500.0]      1.0133      0.752      1.347      0.178        -0.461     2.488\n",
      "C(nyeste_antal_ansatte)[T.1000.0]     0.7364      1.051      0.701      0.484        -1.324     2.796\n",
      "branche_ansvarskode[T.15]            -4.5699      1.034     -4.421      0.000        -6.596    -2.544\n",
      "branche_ansvarskode[T.65]             0.4971      0.209      2.381      0.017         0.088     0.906\n",
      "branche_ansvarskode[T.75]           -26.7808   3.85e+04     -0.001      0.999     -7.55e+04  7.54e+04\n",
      "branche_ansvarskode[T.96]            30.5924   5.87e+05   5.21e-05      1.000     -1.15e+06  1.15e+06\n",
      "branche_ansvarskode[T.97]             0.5545      0.614      0.903      0.366        -0.649     1.758\n",
      "branche_ansvarskode[T.99]             0.2416      0.542      0.446      0.656        -0.820     1.303\n",
      "branche_ansvarskode[T.None]          -1.9593      0.180    -10.896      0.000        -2.312    -1.607\n",
      "reklamebeskyttet[T.True]             -2.6928      0.051    -52.787      0.000        -2.793    -2.593\n",
      "np.log(antal_penheder + 1)           -0.5775      0.072     -8.058      0.000        -0.718    -0.437\n",
      "transform_year(stiftelsesaar)         0.0498      0.001     74.561      0.000         0.048     0.051\n",
      "=====================================================================================================\n"
     ]
    }
   ],
   "source": [
    "print(results.summary())"
   ]
  },
  {
   "cell_type": "code",
   "execution_count": 14,
   "metadata": {
    "collapsed": false
   },
   "outputs": [],
   "source": [
    "actives = dfs.sammensat_status.isin(['Aktiv']).values\n",
    "y_est = results.predict(exog=dfs.ix[actives, :])\n",
    "indices = argsort(-y_est)"
   ]
  },
  {
   "cell_type": "code",
   "execution_count": 15,
   "metadata": {
    "collapsed": false
   },
   "outputs": [],
   "source": [
    "# dfs.ix[actives, :].iloc[indices, :].head(100)"
   ]
  },
  {
   "cell_type": "code",
   "execution_count": null,
   "metadata": {
    "collapsed": true
   },
   "outputs": [],
   "source": []
  }
 ],
 "metadata": {
  "kernelspec": {
   "display_name": "Python 2",
   "language": "python",
   "name": "python2"
  },
  "language_info": {
   "codemirror_mode": {
    "name": "ipython",
    "version": 2
   },
   "file_extension": ".py",
   "mimetype": "text/x-python",
   "name": "python",
   "nbconvert_exporter": "python",
   "pygments_lexer": "ipython2",
   "version": "2.7.12"
  }
 },
 "nbformat": 4,
 "nbformat_minor": 1
}
